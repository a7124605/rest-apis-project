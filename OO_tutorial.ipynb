{
 "cells": [
  {
   "cell_type": "code",
   "execution_count": 4,
   "metadata": {},
   "outputs": [
    {
     "name": "stdout",
     "output_type": "stream",
     "text": [
      "ok\n"
     ]
    }
   ],
   "source": [
    "digitime= 9\n",
    "\n",
    "if digitime > 5 or digitime <6:\n",
    "    print(\"ok\")\n",
    "else:\n",
    "    print(\"error\")"
   ]
  },
  {
   "cell_type": "code",
   "execution_count": 21,
   "metadata": {},
   "outputs": [
    {
     "name": "stdout",
     "output_type": "stream",
     "text": [
      "0.833\n"
     ]
    }
   ],
   "source": [
    "time = \"18:50\"\n",
    "time_split = time.split(\":\")\n",
    "minute = float(time_split[1])\n",
    "digitmin = round(minute / 60,3)\n",
    "\n",
    "print(digitmin)\n"
   ]
  },
  {
   "cell_type": "code",
   "execution_count": 22,
   "metadata": {},
   "outputs": [
    {
     "name": "stdout",
     "output_type": "stream",
     "text": [
      "stheRem"
     ]
    }
   ],
   "source": [
    "s = \"stheRem\"\n",
    "for c in s:\n",
    "    print(c,end=\"\")"
   ]
  },
  {
   "cell_type": "code",
   "execution_count": 29,
   "metadata": {},
   "outputs": [
    {
     "name": "stdout",
     "output_type": "stream",
     "text": [
      "['The', 'House', 'Chris']\n"
     ]
    }
   ],
   "source": [
    "\n",
    "raw_str = input(\"type\")\n",
    "Capsplit = []\n",
    "rightindex = 1\n",
    "leftindex = 0\n",
    "\n",
    "while rightindex < len(raw_str):\n",
    "        \n",
    "        if raw_str[rightindex].isupper():\n",
    "            Capsplit.append(raw_str[leftindex:rightindex])\n",
    "            leftindex = rightindex\n",
    "\n",
    "        rightindex += 1\n",
    "Capsplit.append(raw_str[leftindex:])\n",
    "\n",
    "print(Capsplit)\n"
   ]
  },
  {
   "cell_type": "code",
   "execution_count": 34,
   "metadata": {},
   "outputs": [
    {
     "name": "stdout",
     "output_type": "stream",
     "text": [
      "the_house_chris"
     ]
    }
   ],
   "source": [
    "raw_str = input(\"camelCase: \")\n",
    "\n",
    "cap_split = []\n",
    "right_index = 1\n",
    "left_index = 0\n",
    "\n",
    "while right_index < len(raw_str):\n",
    "    if raw_str[right_index].isupper():\n",
    "        cap_split.append(raw_str[left_index:right_index].lower())\n",
    "        left_index = right_index\n",
    "    right_index += 1\n",
    "cap_split.append(raw_str[left_index:].lower())\n",
    "\n",
    "\n",
    "if len(cap_split) > 1:\n",
    "        print(cap_split[0], end=\"_\")\n",
    "        print(\"_\".join(cap_split[1:]), end=\"\")\n",
    "else:\n",
    "        print(cap_split[0])"
   ]
  },
  {
   "cell_type": "code",
   "execution_count": 35,
   "metadata": {},
   "outputs": [
    {
     "name": "stdout",
     "output_type": "stream",
     "text": [
      "ok\n"
     ]
    }
   ],
   "source": [
    "amount_duo = 50\n",
    "\n",
    "while amount_duo > 0:\n",
    "    cash = int(input(\"Insert Coin :\"))\n",
    "\n",
    "    if cash == 5 or cash == 10 or cash ==25:\n",
    "        print('ok')\n",
    "        break\n",
    "    else:\n",
    "        pass"
   ]
  },
  {
   "cell_type": "code",
   "execution_count": 36,
   "metadata": {},
   "outputs": [
    {
     "name": "stdout",
     "output_type": "stream",
     "text": [
      "['4', '3']\n"
     ]
    }
   ],
   "source": [
    "list = \"4/3\"\n",
    "\n",
    "print(list.split(\"/\"))"
   ]
  },
  {
   "cell_type": "code",
   "execution_count": 37,
   "metadata": {},
   "outputs": [
    {
     "name": "stdout",
     "output_type": "stream",
     "text": [
      "0.0\n"
     ]
    }
   ],
   "source": [
    "print(0/4)"
   ]
  },
  {
   "cell_type": "code",
   "execution_count": 39,
   "metadata": {},
   "outputs": [
    {
     "ename": "ValueError",
     "evalue": "invalid literal for int() with base 10: '8.6'",
     "output_type": "error",
     "traceback": [
      "\u001b[0;31m---------------------------------------------------------------------------\u001b[0m",
      "\u001b[0;31mValueError\u001b[0m                                Traceback (most recent call last)",
      "Cell \u001b[0;32mIn[39], line 2\u001b[0m\n\u001b[1;32m      1\u001b[0m num_list \u001b[39m=\u001b[39m [\u001b[39m\"\u001b[39m\u001b[39m8.6\u001b[39m\u001b[39m\"\u001b[39m,\u001b[39m\"\u001b[39m\u001b[39m4\u001b[39m\u001b[39m\"\u001b[39m]\n\u001b[0;32m----> 2\u001b[0m result \u001b[39m=\u001b[39m \u001b[39mint\u001b[39;49m(num_list[\u001b[39m0\u001b[39;49m]) \u001b[39m/\u001b[39m \u001b[39mint\u001b[39m(num_list[\u001b[39m1\u001b[39m])\n\u001b[1;32m      3\u001b[0m \u001b[39mprint\u001b[39m(result)\n",
      "\u001b[0;31mValueError\u001b[0m: invalid literal for int() with base 10: '8.6'"
     ]
    }
   ],
   "source": [
    "\n",
    "num_list = [\"8.6\",\"4\"]\n",
    "result = int(num_list[0]) / int(num_list[1])\n",
    "print(result)"
   ]
  },
  {
   "cell_type": "code",
   "execution_count": 41,
   "metadata": {},
   "outputs": [
    {
     "name": "stdout",
     "output_type": "stream",
     "text": [
      "['24ffcfc']\n"
     ]
    }
   ],
   "source": [
    "num_list = input(\"fraction: \").split(\"/\")\n",
    "print(num_list)"
   ]
  },
  {
   "cell_type": "code",
   "execution_count": 42,
   "metadata": {},
   "outputs": [
    {
     "name": "stdout",
     "output_type": "stream",
     "text": [
      "Abc Fht\n"
     ]
    }
   ],
   "source": [
    "text = \"abc fht\"\n",
    "print(text.title())"
   ]
  },
  {
   "cell_type": "code",
   "execution_count": 43,
   "metadata": {},
   "outputs": [
    {
     "name": "stdout",
     "output_type": "stream",
     "text": [
      "T\n"
     ]
    }
   ],
   "source": [
    "menu_dict = {\n",
    "    \"Baja Taco\": 4.00,\n",
    "    \"Burrito\": 7.50,\n",
    "    \"Bowl\": 8.50,\n",
    "    \"Nachos\": 11.00,\n",
    "    \"Quesadilla\": 8.50,\n",
    "    \"Super Burrito\": 8.50,\n",
    "    \"Super Quesadilla\": 9.50,\n",
    "    \"Taco\": 3.00,\n",
    "    \"Tortilla Salad\": 8.00\n",
    "}\n",
    "\n",
    "\n",
    "if \"Bowl\" in menu_dict:\n",
    "    print(\"T\")\n",
    "else:\n",
    "    print(\"F\")"
   ]
  },
  {
   "cell_type": "code",
   "execution_count": 44,
   "metadata": {},
   "outputs": [
    {
     "name": "stdout",
     "output_type": "stream",
     "text": [
      "Total: $20\n"
     ]
    }
   ],
   "source": [
    "sum =20\n",
    "print(f\"Total: ${sum}\")\n"
   ]
  },
  {
   "cell_type": "code",
   "execution_count": 53,
   "metadata": {},
   "outputs": [
    {
     "ename": "KeyError",
     "evalue": "'a'",
     "output_type": "error",
     "traceback": [
      "\u001b[0;31m---------------------------------------------------------------------------\u001b[0m",
      "\u001b[0;31mKeyError\u001b[0m                                  Traceback (most recent call last)",
      "Cell \u001b[0;32mIn[53], line 11\u001b[0m\n\u001b[1;32m      8\u001b[0m             \u001b[39mprint\u001b[39m(value, key)\n\u001b[1;32m      9\u001b[0m     \u001b[39mbreak\u001b[39;00m\n\u001b[0;32m---> 11\u001b[0m test[input_item] \u001b[39m+\u001b[39m\u001b[39m=\u001b[39m\u001b[39m1\u001b[39m\n",
      "\u001b[0;31mKeyError\u001b[0m: 'a'"
     ]
    }
   ],
   "source": [
    "test = {}\n",
    "while True:\n",
    "\n",
    "    input_item = input()\n",
    "    if input_item == \"0\":\n",
    "        for key in sorted(test.keys()):\n",
    "                value = test[key]\n",
    "                print(value, key)\n",
    "        break\n",
    "\n",
    "    test[input_item] +=1\n",
    "\n"
   ]
  },
  {
   "cell_type": "code",
   "execution_count": 51,
   "metadata": {},
   "outputs": [
    {
     "name": "stdout",
     "output_type": "stream",
     "text": [
      "value1 key1\n",
      "value2 key2\n",
      "value3 key3\n"
     ]
    }
   ],
   "source": [
    "my_dict = {\"key1\": \"value1\", \"key2\": \"value2\", \"key3\": \"value3\"}\n",
    "\n",
    "for k, v in my_dict.items():\n",
    "    print(v,k)"
   ]
  },
  {
   "cell_type": "code",
   "execution_count": 55,
   "metadata": {},
   "outputs": [
    {
     "ename": "TypeError",
     "evalue": "int() argument must be a string, a bytes-like object or a real number, not 'list'",
     "output_type": "error",
     "traceback": [
      "\u001b[0;31m---------------------------------------------------------------------------\u001b[0m",
      "\u001b[0;31mTypeError\u001b[0m                                 Traceback (most recent call last)",
      "Cell \u001b[0;32mIn[55], line 4\u001b[0m\n\u001b[1;32m      1\u001b[0m s\u001b[39m=\u001b[39m \u001b[39m\"\u001b[39m\u001b[39m12/12/12\u001b[39m\u001b[39m\"\u001b[39m\n\u001b[1;32m      3\u001b[0m date_list \u001b[39m=\u001b[39m s\u001b[39m.\u001b[39msplit(\u001b[39m\"\u001b[39m\u001b[39m/\u001b[39m\u001b[39m\"\u001b[39m)\n\u001b[0;32m----> 4\u001b[0m date_list \u001b[39m=\u001b[39m \u001b[39mint\u001b[39;49m(date_list)\n",
      "\u001b[0;31mTypeError\u001b[0m: int() argument must be a string, a bytes-like object or a real number, not 'list'"
     ]
    }
   ],
   "source": [
    "s= \"12/12/12\"\n",
    "\n",
    "date_list = s.split(\"/\")\n",
    "date_list = int(date_list)\n"
   ]
  },
  {
   "cell_type": "code",
   "execution_count": 59,
   "metadata": {},
   "outputs": [
    {
     "name": "stdout",
     "output_type": "stream",
     "text": [
      "<class 'str'>\n"
     ]
    }
   ],
   "source": [
    "\n",
    "date_list=[\"456\",\"786\",\"123\"]\n",
    "for __ in date_list:\n",
    "    __ = int(__)\n",
    "\n",
    "\n",
    "print(type(date_list[0]))\n"
   ]
  },
  {
   "cell_type": "code",
   "execution_count": 67,
   "metadata": {},
   "outputs": [
    {
     "name": "stdout",
     "output_type": "stream",
     "text": [
      "clb6x10\n"
     ]
    }
   ],
   "source": [
    "from pyfiglet import Figlet\n",
    "figlet = Figlet()\n",
    "\n",
    "print(figlet.getFonts()[0])"
   ]
  },
  {
   "cell_type": "code",
   "execution_count": 74,
   "metadata": {},
   "outputs": [
    {
     "name": "stdout",
     "output_type": "stream",
     "text": [
      "house_of\n"
     ]
    }
   ],
   "source": [
    "import random\n",
    "from pyfiglet import Figlet\n",
    "figlet = Figlet()\n",
    "random_num = random.randint(0,424)\n",
    "font_list = figlet.getFonts()\n",
    "print(font_list[random_num])"
   ]
  },
  {
   "cell_type": "code",
   "execution_count": 5,
   "metadata": {},
   "outputs": [
    {
     "name": "stdout",
     "output_type": "stream",
     "text": [
      "Num:0,/Users/chris/opt/anaconda3/envs/DataScience/lib/python3.10/site-packages/ipykernel_launcher.py\n",
      "Num:1,--ip=127.0.0.1\n",
      "Num:2,--stdin=9008\n",
      "Num:3,--control=9006\n",
      "Num:4,--hb=9005\n",
      "Num:5,--Session.signature_scheme=\"hmac-sha256\"\n",
      "Num:6,--Session.key=b\"5eda7dfc-7479-4512-8503-452f2695b42b\"\n",
      "Num:7,--shell=9007\n",
      "Num:8,--transport=\"tcp\"\n",
      "Num:9,--iopub=9009\n",
      "Num:10,--f=/Users/chris/Library/Jupyter/runtime/kernel-v2-92797uPlq6eMain31.json\n"
     ]
    }
   ],
   "source": [
    "import sys\n",
    "for i in range(len(sys.argv)):\n",
    "\n",
    "    print(f\"Num:{i},{sys.argv[i]}\")"
   ]
  },
  {
   "cell_type": "code",
   "execution_count": 5,
   "metadata": {},
   "outputs": [
    {
     "name": "stdout",
     "output_type": "stream",
     "text": [
      "Error\n"
     ]
    }
   ],
   "source": [
    "try:\n",
    "    x = int(input(\"123\"))\n",
    "\n",
    "    if x < 0:\n",
    "        raise ValueError\n",
    "except ValueError:\n",
    "    print(\"Error\")\n",
    "else:\n",
    "    print(x)"
   ]
  },
  {
   "cell_type": "code",
   "execution_count": 6,
   "metadata": {},
   "outputs": [
    {
     "data": {
      "text/plain": [
       "'3'"
      ]
     },
     "execution_count": 6,
     "metadata": {},
     "output_type": "execute_result"
    }
   ],
   "source": [
    "x = 3\n",
    "\n",
    "input(f\"{x}\")"
   ]
  },
  {
   "cell_type": "code",
   "execution_count": null,
   "metadata": {},
   "outputs": [],
   "source": []
  }
 ],
 "metadata": {
  "kernelspec": {
   "display_name": "DataScience",
   "language": "python",
   "name": "python3"
  },
  "language_info": {
   "codemirror_mode": {
    "name": "ipython",
    "version": 3
   },
   "file_extension": ".py",
   "mimetype": "text/x-python",
   "name": "python",
   "nbconvert_exporter": "python",
   "pygments_lexer": "ipython3",
   "version": "3.10.10"
  },
  "orig_nbformat": 4
 },
 "nbformat": 4,
 "nbformat_minor": 2
}
